{
 "cells": [
  {
   "cell_type": "code",
   "execution_count": 1,
   "id": "f569635d-9e9f-4722-b1d4-3a458931a054",
   "metadata": {},
   "outputs": [
    {
     "name": "stdout",
     "output_type": "stream",
     "text": [
      "Requirement already satisfied: requests in c:\\users\\ravinder kumar\\appdata\\local\\programs\\python\\python312\\lib\\site-packages (2.31.0)\n",
      "Requirement already satisfied: charset-normalizer<4,>=2 in c:\\users\\ravinder kumar\\appdata\\local\\programs\\python\\python312\\lib\\site-packages (from requests) (3.3.2)\n",
      "Requirement already satisfied: idna<4,>=2.5 in c:\\users\\ravinder kumar\\appdata\\local\\programs\\python\\python312\\lib\\site-packages (from requests) (3.6)\n",
      "Requirement already satisfied: urllib3<3,>=1.21.1 in c:\\users\\ravinder kumar\\appdata\\local\\programs\\python\\python312\\lib\\site-packages (from requests) (2.1.0)\n",
      "Requirement already satisfied: certifi>=2017.4.17 in c:\\users\\ravinder kumar\\appdata\\local\\programs\\python\\python312\\lib\\site-packages (from requests) (2023.11.17)\n"
     ]
    },
    {
     "name": "stderr",
     "output_type": "stream",
     "text": [
      "\n",
      "[notice] A new release of pip is available: 23.3.2 -> 24.0\n",
      "[notice] To update, run: python.exe -m pip install --upgrade pip\n"
     ]
    }
   ],
   "source": [
    "!pip install requests\n"
   ]
  },
  {
   "cell_type": "code",
   "execution_count": 14,
   "id": "18f91d20-b9a2-4b09-ba73-f2b70da26200",
   "metadata": {},
   "outputs": [],
   "source": [
    "import requests"
   ]
  },
  {
   "cell_type": "code",
   "execution_count": 15,
   "id": "f76591c7-5167-4a2d-b675-ba30dbf51ed5",
   "metadata": {},
   "outputs": [],
   "source": [
    "def get_news(api_key, keyword):\n",
    "    url = f'https://newsapi.org/v2/everything?q={keyword}&apiKey={api_key}'\n",
    "    response = requests.get(url)\n",
    "    data = response.json()\n",
    "    articles = data['articles']\n",
    "    news_list = []\n",
    "    for article in articles:\n",
    "        title = article['title']\n",
    "        description = article['description']\n",
    "        link = article['url']\n",
    "        news_list.append({'title': title, 'description': description, 'link': link})\n",
    "    return news_list"
   ]
  },
  {
   "cell_type": "code",
   "execution_count": 18,
   "id": "e287ccdf-fae8-4af2-ae6c-71ed880e6dd7",
   "metadata": {},
   "outputs": [],
   "source": [
    "def main():\n",
    "    # Replace 'YOUR_API_KEY' with your actual News API key\n",
    "    api_key = '2cd44d590df74759b11e706e7c3ab2ba'\n",
    "    \n",
    "    # Ask user for keyword\n",
    "    keyword = input(\"Enter a keyword of interest: \")\n",
    "    \n",
    "    # Fetch news articles based on the keyword\n",
    "    news = get_news(api_key, keyword)\n",
    "    \n",
    "    # Display news articles\n",
    "    if news:\n",
    "        print(f\"News related to '{keyword}':\\n\")\n",
    "        for index, article in enumerate(news[:10], start=1):\n",
    "            print(f\"Article {index}:\")\n",
    "            print(f\"Title: {article['title']}\")\n",
    "            print(f\"Description: {article['description']}\")\n",
    "            print(f\"Link: {article['link']}\")\n",
    "            print(\"*\"*150)\n",
    "    else:\n",
    "        print(f\"No news found related to '{keyword}'.\")\n"
   ]
  },
  {
   "cell_type": "code",
   "execution_count": 19,
   "id": "5ead6511-3645-44c0-b380-910a55a00b81",
   "metadata": {},
   "outputs": [
    {
     "name": "stdin",
     "output_type": "stream",
     "text": [
      "Enter a keyword of interest:  data science\n"
     ]
    },
    {
     "name": "stdout",
     "output_type": "stream",
     "text": [
      "News related to 'data science':\n",
      "\n",
      "Article 1:\n",
      "Title: All the Citizen Science Projects You Can Participate in During the Eclipse\n",
      "Description: Several eclipse-focused projects are set to make big scientific contributions this coming Monday, April 8. While many projects are already in full swing, there’s still time for you to take part and contribute.Read more...\n",
      "Link: https://gizmodo.com/all-the-citizen-science-projects-you-can-participate-in-1851388182\n",
      "******************************************************************************************************************************************************\n",
      "Article 2:\n",
      "Title: Here’s Proof the AI Boom Is Real: More People Are Tapping ChatGPT at Work\n",
      "Description: Despite recent warnings that generative AI is overhyped, new data from Pew Research Center shows a rapid increase in the number of people who have used ChatGPT at work.\n",
      "Link: https://www.wired.com/story/plaintext-proof-the-ai-boom-is-people-tapping-chatgpt-at-work/\n",
      "******************************************************************************************************************************************************\n",
      "Article 3:\n",
      "Title: [Removed]\n",
      "Description: [Removed]\n",
      "Link: https://removed.com\n",
      "******************************************************************************************************************************************************\n",
      "Article 4:\n",
      "Title: How Will the Solar Eclipse Affect Animals? NASA Needs Your Help to Find Out\n",
      "Description: NASA’s Eclipse Soundscapes project will collect observations and soundscapes recorded by the public during the April 8 total solar eclipse.\n",
      "Link: https://www.wired.com/story/solar-eclipse-nasa-soundscapes-citizen-science/\n",
      "******************************************************************************************************************************************************\n",
      "Article 5:\n",
      "Title: 7 times a total solar eclipse revolutionized science\n",
      "Description: A total solar eclipse made Einstein and his theory of relativity world famous. That's not the only time an eclipse has revolutionized science.\n",
      "Link: https://www.businessinsider.com/how-solar-eclipse-changed-science-einstein-general-theory-relativity-2024-4\n",
      "******************************************************************************************************************************************************\n",
      "Article 6:\n",
      "Title: Texas surgeon accused of secretly blocking patients from getting transplants\n",
      "Description: The motive for the alleged data manipulation is unknown.\n",
      "Link: https://arstechnica.com/science/2024/04/texas-surgeon-accused-of-secretly-blocking-patients-from-getting-transplants/\n",
      "******************************************************************************************************************************************************\n",
      "Article 7:\n",
      "Title: Astronomers Watch in Real Time as Epic Supernova Potentially Births a Black Hole\n",
      "Description: A team of astronomers recently captured a series of images of a distant star as it wentsupernova, providing a remarkable play-by-play of stellar death and possibly the birth of a black hole.Read more...\n",
      "Link: https://gizmodo.com/epic-supernova-births-black-hole-sn2023ixf-1851369781\n",
      "******************************************************************************************************************************************************\n",
      "Article 8:\n",
      "Title: Trove of Unknown Deep-Sea Life Discovered in the South Pacific\n",
      "Description: Much of the ocean’s life remains a mystery to us, but an international team of scientists has just filled in a few blanks after a 40-day expeditionto the Salas y Gómez Ridge. The ridge is a lengthy corridor filled with over 100 underwater mountains that exten…\n",
      "Link: https://gizmodo.com/deep-sea-photos-new-species-falkor-salas-gomez-ridge-1851413141\n",
      "******************************************************************************************************************************************************\n",
      "Article 9:\n",
      "Title: Solar Eclipse 2024: How to watch and record the total eclipse on Monday\n",
      "Description: On April 8, a solar eclipse will darken the skies. This is a rare astronomical event: The last North American total solar eclipse was on August 21, 2017, and there won't be another on visible on the continent until 2044. The path of totality — where the sun w…\n",
      "Link: https://consent.yahoo.com/v2/collectConsent?sessionId=1_cc-session_7cd3cbd3-2f40-4e35-94f7-ae87856a00c8\n",
      "******************************************************************************************************************************************************\n",
      "Article 10:\n",
      "Title: On eclipse day, hundreds of students will send up balloons for science\n",
      "Description: The NASA-backed Nationwide Eclipse Ballooning Project puts students in charge of a bold scientific endeavor to study the April 8 total solar eclipse.\n",
      "Link: https://www.npr.org/2024/03/25/1240017029/solar-eclipse-nasa-students-research-balloons-science\n",
      "******************************************************************************************************************************************************\n"
     ]
    }
   ],
   "source": [
    "if __name__ == \"__main__\":\n",
    "    main()"
   ]
  },
  {
   "cell_type": "code",
   "execution_count": null,
   "id": "454115ce-40c2-4e16-a0fe-62241ca6555b",
   "metadata": {},
   "outputs": [],
   "source": []
  }
 ],
 "metadata": {
  "kernelspec": {
   "display_name": "Python 3 (ipykernel)",
   "language": "python",
   "name": "python3"
  },
  "language_info": {
   "codemirror_mode": {
    "name": "ipython",
    "version": 3
   },
   "file_extension": ".py",
   "mimetype": "text/x-python",
   "name": "python",
   "nbconvert_exporter": "python",
   "pygments_lexer": "ipython3",
   "version": "3.12.1"
  }
 },
 "nbformat": 4,
 "nbformat_minor": 5
}
